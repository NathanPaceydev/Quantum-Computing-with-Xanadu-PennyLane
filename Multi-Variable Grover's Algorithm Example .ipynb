{
 "cells": [
  {
   "cell_type": "code",
   "execution_count": 1,
   "id": "06d878e1",
   "metadata": {},
   "outputs": [
    {
     "name": "stdout",
     "output_type": "stream",
     "text": [
      "Requirement already satisfied: pennylane in /opt/conda/lib/python3.9/site-packages (0.27.0)\n",
      "Requirement already satisfied: semantic-version>=2.7 in /opt/conda/lib/python3.9/site-packages (from pennylane) (2.10.0)\n",
      "Requirement already satisfied: numpy in /opt/conda/lib/python3.9/site-packages (from pennylane) (1.21.6)\n",
      "Requirement already satisfied: cachetools in /opt/conda/lib/python3.9/site-packages (from pennylane) (5.0.0)\n",
      "Requirement already satisfied: scipy in /opt/conda/lib/python3.9/site-packages (from pennylane) (1.8.0)\n",
      "Requirement already satisfied: autoray>=0.3.1 in /opt/conda/lib/python3.9/site-packages (from pennylane) (0.5.3)\n",
      "Requirement already satisfied: toml in /opt/conda/lib/python3.9/site-packages (from pennylane) (0.10.2)\n",
      "Requirement already satisfied: networkx in /opt/conda/lib/python3.9/site-packages (from pennylane) (2.8)\n",
      "Requirement already satisfied: appdirs in /opt/conda/lib/python3.9/site-packages (from pennylane) (1.4.4)\n",
      "Requirement already satisfied: autograd in /opt/conda/lib/python3.9/site-packages (from pennylane) (1.5)\n",
      "Requirement already satisfied: pennylane-lightning>=0.27 in /opt/conda/lib/python3.9/site-packages (from pennylane) (0.27.0)\n",
      "Requirement already satisfied: retworkx in /opt/conda/lib/python3.9/site-packages (from pennylane) (0.12.1)\n",
      "Requirement already satisfied: requests in /opt/conda/lib/python3.9/site-packages (from pennylane) (2.27.1)\n",
      "Requirement already satisfied: ninja in /opt/conda/lib/python3.9/site-packages (from pennylane-lightning>=0.27->pennylane) (1.11.1)\n",
      "Requirement already satisfied: future>=0.15.2 in /opt/conda/lib/python3.9/site-packages (from autograd->pennylane) (0.18.2)\n",
      "Requirement already satisfied: idna<4,>=2.5 in /opt/conda/lib/python3.9/site-packages (from requests->pennylane) (3.3)\n",
      "Requirement already satisfied: urllib3<1.27,>=1.21.1 in /opt/conda/lib/python3.9/site-packages (from requests->pennylane) (1.26.9)\n",
      "Requirement already satisfied: certifi>=2017.4.17 in /opt/conda/lib/python3.9/site-packages (from requests->pennylane) (2021.10.8)\n",
      "Requirement already satisfied: charset-normalizer~=2.0.0 in /opt/conda/lib/python3.9/site-packages (from requests->pennylane) (2.0.12)\n",
      "Requirement already satisfied: rustworkx==0.12.1 in /opt/conda/lib/python3.9/site-packages (from retworkx->pennylane) (0.12.1)\n"
     ]
    }
   ],
   "source": [
    "!pip install pennylane"
   ]
  },
  {
   "cell_type": "code",
   "execution_count": 2,
   "id": "f062e8d0",
   "metadata": {},
   "outputs": [],
   "source": [
    "import pennylane as qml\n",
    "import numpy as np\n",
    "import matplotlib.pyplot as plt\n",
    "import time\n",
    "import itertools\n"
   ]
  },
  {
   "cell_type": "code",
   "execution_count": 3,
   "id": "a632abb2",
   "metadata": {},
   "outputs": [
    {
     "name": "stdout",
     "output_type": "stream",
     "text": [
      "[39, 55, 21, 12, 82, 63, 5, 87, 10, 65]\n",
      "[1. 0. 1. 1. 1. 0. 0. 0. 0. 1.]\n"
     ]
    },
    {
     "data": {
      "image/png": "[encoded data removed]",
      "text/plain": [
       "<Figure size 432x288 with 1 Axes>"
      ]
     },
     "metadata": {
      "needs_background": "light"
     },
     "output_type": "display_data"
    }
   ],
   "source": [
    "\n",
    "# use some python libaries to solve this problem in a conventional computing method:\n",
    "def conventional_search(count1, values_arr):\n",
    "    total = np.sum(values_arr)\n",
    "    sz = len(values_arr)\n",
    "    \n",
    "    for ele in itertools.combinations(values_arr,sz//2):\n",
    "        count1+=1\n",
    "        if sum(ele)==total//2:\n",
    "            #print(\"Took \"+str(count1)+\" Iterations\")\n",
    "            return ele, count1\n",
    "    return np.zeros(sz//2),-1\n",
    "        \n",
    "def convert_res(count1, size):\n",
    "    \n",
    "    np_values_arr = np.random.randint(1,101,size)\n",
    "    values_arr = np_values_arr.tolist()\n",
    "    print(values_arr)\n",
    "\n",
    "    results_arr = np.zeros(len(values_arr))\n",
    "    if conventional_search(count1, values_arr)[1]>-1:\n",
    "        for ele in conventional_search(count1, values_arr)[0]:\n",
    "            results_arr[values_arr.index(ele)]=1\n",
    "        return results_arr\n",
    "\n",
    "count1=0\n",
    "size = 10\n",
    "values = convert_res(count1,size)\n",
    "plt.bar(range(len(values)), values)\n",
    "print(values)\n"
   ]
  },
  {
   "cell_type": "code",
   "execution_count": 24,
   "id": "c9b5d117",
   "metadata": {},
   "outputs": [
    {
     "name": "stdout",
     "output_type": "stream",
     "text": [
      "[11, 21, 70, 83, 66, 54, 76, 2, 55, 31]\n",
      "[1. 0. 0. 1. 0. 1. 0. 0. 1. 1.]\n"
     ]
    },
    {
     "data": {
      "image/png": "[encoded data removed]",
      "text/plain": [
       "<Figure size 432x288 with 1 Axes>"
      ]
     },
     "metadata": {
      "needs_background": "light"
     },
     "output_type": "display_data"
    }
   ],
   "source": [
    "count1=0\n",
    "size = 10\n",
    "values = convert_res(count1,size)\n",
    "plt.bar(range(len(values)), values)\n",
    "print(values)"
   ]
  },
  {
   "cell_type": "code",
   "execution_count": 14,
   "id": "af42a995",
   "metadata": {},
   "outputs": [
    {
     "data": {
      "text/plain": [
       "69.8269"
      ]
     },
     "execution_count": 14,
     "metadata": {},
     "output_type": "execute_result"
    }
   ],
   "source": [
    "# test the average number of iterations\n",
    "def find_average(n):\n",
    "    avg_arr = []\n",
    "    count = 0\n",
    "    while count < n:\n",
    "        size = 10\n",
    "        np_property_prices = np.random.randint(1,101,size)\n",
    "        property_prices = np_property_prices.tolist()\n",
    "        \n",
    "        if conventional_search(count1,property_prices)[1] >-1:\n",
    "            avg_arr.append(conventional_search(count1,property_prices)[1])\n",
    "            #print(conventional_search(count1,property_prices))\n",
    "            count+=1\n",
    "        \n",
    "    return np.average(avg_arr)\n",
    "\n",
    "find_average(10000)"
   ]
  },
  {
   "cell_type": "markdown",
   "id": "7cc31e50",
   "metadata": {},
   "source": [
    "we can see an average about 70 iteration for an array of size 10. Note that this is also for a randomly generated array from with values 1 to 100. We can call this our N, representing the amount of iterations needed on average for a linear searching algorithm."
   ]
  },
  {
   "cell_type": "code",
   "execution_count": 15,
   "id": "3de2465b",
   "metadata": {},
   "outputs": [
    {
     "name": "stdout",
     "output_type": "stream",
     "text": [
      "[51, 54, 14, 17, 26, 4, 34, 18, 61, 42]\n",
      "[0 1 0 0 1 1 0 0 0 1]\n"
     ]
    },
    {
     "data": {
      "text/plain": [
       "<BarContainer object of 10 artists>"
      ]
     },
     "execution_count": 15,
     "metadata": {},
     "output_type": "execute_result"
    },
    {
     "data": {
      "image/png": "[encoded data removed]",
      "text/plain": [
       "<Figure size 432x288 with 1 Axes>"
      ]
     },
     "metadata": {
      "needs_background": "light"
     },
     "output_type": "display_data"
    }
   ],
   "source": [
    "size = 10\n",
    "np_values_arr = np.random.randint(1,101,size)\n",
    "values_arr = np_values_arr.tolist()\n",
    "count=0\n",
    "wires_set = list(range(len(values_arr)))\n",
    "aux_wires = list(range(len(values_arr),2*len(values_arr)))\n",
    "\n",
    "# this is the function for the oracle operator\n",
    "# it will flip the sign of the operator that meets the conditions\n",
    "def oracle(wires_set, aux_oracle_wires):\n",
    "    \n",
    "    # function for the quantum Fourier transform\n",
    "    def fourier_K(k, wires):\n",
    "        for j in range(len(wires)):\n",
    "            # use the RZ gets on all wires with a value of k*pi/2^j\n",
    "            qml.RZ(k * np.pi / (2**j), wires=wires[j])\n",
    "        \n",
    "    # function that applies the Quantum Fourier transform to the second set of wires\n",
    "    def aux_function():\n",
    "        qml.QFT(wires = aux_oracle_wires)\n",
    "        # loop through the wires\n",
    "        for wire in wires_set:\n",
    "            # create a controlled version of the circuit provided\n",
    "            qml.ctrl(fourier_K, control = wire)(values_arr[wire], wires = aux_oracle_wires)\n",
    "            \n",
    "        qml.adjoint(qml.QFT)(wires = aux_oracle_wires) # apply the adjoint operator the aux wires\n",
    "        \n",
    "    aux_function() # call function\n",
    "    qml.FlipSign(sum(values_arr) // 2, wires = aux_oracle_wires) # this is where we define the solution to flip\n",
    "\n",
    "    qml.adjoint(aux_function)() # apply the adjoint on the aux circuit\n",
    "\n",
    "# define the q circuit device\n",
    "dev = qml.device('default.qubit', wires = wires_set +aux_wires, shots = 1)\n",
    "\n",
    "# function that implements grover's algorithm on a Quantum circuit\n",
    "@qml.qnode(dev)\n",
    "def circuit():\n",
    "    # apply the Hadamard to the circuit\n",
    "    for wire in wires_set:\n",
    "        qml.Hadamard(wires = wire)\n",
    "       \n",
    "    # call the custom oracle function\n",
    "    oracle(wires_set, aux_wires)\n",
    "    \n",
    "    # apply the grover operator on the wires\n",
    "    qml.GroverOperator(wires = wires_set)\n",
    "    \n",
    "    # return the positive states in the circuit\n",
    "    return qml.sample(wires = wires_set)\n",
    "\n",
    "\n",
    "values = circuit()\n",
    "print(values_arr)\n",
    "print(values)\n",
    "plt.bar(range(len(values)), values)"
   ]
  },
  {
   "cell_type": "code",
   "execution_count": 20,
   "id": "8c3e88d5",
   "metadata": {},
   "outputs": [
    {
     "name": "stdout",
     "output_type": "stream",
     "text": [
      "10\n",
      "10\n",
      "[88, 88, 25, 19, 96, 77, 70, 85, 60, 39]\n",
      "[0 0 0 0 1 1 1 0 1 1]\n",
      "10\n",
      "10\n",
      "[62, 66, 39, 86, 13, 97, 51, 13, 75, 64]\n",
      "[1 0 1 1 0 1 0 1 0 0]\n",
      "10\n",
      "10\n",
      "[19, 3, 83, 9, 57, 28, 21, 10, 58, 74]\n",
      "[1 0 1 1 0 1 1 1 1 1]\n",
      "10\n",
      "10\n",
      "[85, 29, 45, 46, 35, 75, 2, 82, 67, 72]\n",
      "[0 1 1 1 0 0 1 0 0 1]\n",
      "10\n",
      "10\n",
      "[55, 44, 92, 13, 45, 36, 78, 98, 27, 99]\n",
      "[1 0 0 1 0 0 0 0 0 1]\n"
     ]
    }
   ],
   "source": [
    "def test_Grovers(size,count):\n",
    "    np_values_arr = np.random.randint(1,101,size)\n",
    "    values_arr = np_values_arr.tolist()\n",
    "\n",
    "    wires_set = list(range(len(values_arr)))\n",
    "    aux_wires = list(range(len(values_arr),2*len(values_arr)))\n",
    "\n",
    "    # this is the function for the oracle operator\n",
    "    # it will flip the sign of the operator that meets the conditions\n",
    "    def oracle(wires_set, aux_oracle_wires, count):\n",
    "\n",
    "        # function for the quantum Fourier transform\n",
    "        def fourier_K(count, k, wires):\n",
    "            for j in range(len(wires)):\n",
    "                # use the RZ gets on all wires with a value of k*pi/2^j\n",
    "                qml.RZ(k * np.pi / (2**j), wires=wires[j])\n",
    "                count+=1\n",
    "            \n",
    "            \n",
    "        # function that applies the Quantum Fourier transform to the second set of wires\n",
    "        def aux_function(count):\n",
    "            qml.QFT(wires = aux_oracle_wires)\n",
    "            # loop through the wires\n",
    "            for wire in wires_set:\n",
    "                # create a controlled version of the circuit provided\n",
    "                qml.ctrl(fourier_K, control = wire)(count,values_arr[wire], wires = aux_oracle_wires)\n",
    "                count+=1\n",
    "            print(count)\n",
    "            qml.adjoint(qml.QFT)(wires = aux_oracle_wires) # apply the adjoint operator the aux wires\n",
    "\n",
    "        aux_function(count) # call function\n",
    "        qml.FlipSign(sum(values_arr) // 2, wires = aux_oracle_wires) # this is where we define the solution to flip\n",
    "\n",
    "        qml.adjoint(aux_function)(count) # apply the adjoint on the aux circuit\n",
    "\n",
    "    # define the q circuit device\n",
    "    dev = qml.device('default.qubit', wires = wires_set +aux_wires, shots = 1) # note that shots =1 allows parsing of flipped states\n",
    "\n",
    "    # function that implements grover's algorithm on a Quantum circuit\n",
    "    @qml.qnode(dev)\n",
    "    def circuit():\n",
    "        # apply the Hadamard to the circuit\n",
    "        for wire in wires_set:\n",
    "            qml.Hadamard(wires = wire)\n",
    "\n",
    "        # call the custom oracle function\n",
    "        oracle(wires_set, aux_wires,count)\n",
    "\n",
    "        # apply the grover operator on the wires\n",
    "        qml.GroverOperator(wires = wires_set)\n",
    "\n",
    "        # return the positive states in the circuit\n",
    "        return qml.sample(wires = wires_set)\n",
    "\n",
    "\n",
    "\n",
    "    values = circuit()\n",
    "    print(values_arr)\n",
    "    print(values)\n",
    "    #plt.bar(range(len(values)), values)\n",
    "    #print(count)\n",
    "\n",
    "\n",
    "\n",
    "for _ in range(5):\n",
    "    test_Grovers(10,0)\n"
   ]
  },
  {
   "cell_type": "markdown",
   "id": "eba20524",
   "metadata": {},
   "source": [
    "We can see that regardless of the values in the array sent to the quantum algorithm for an array of size 10 the circuit will take 10 *2 iterations or 20 iterations to return the desired states. This is exactly what was expected. The Linear search on average needed about 70 iteration, which was based on the combinations of the array."
   ]
  }
 ],
 "metadata": {
  "kernelspec": {
   "display_name": "Python 3 (ipykernel)",
   "language": "python",
   "name": "python3"
  },
  "language_info": {
   "codemirror_mode": {
    "name": "ipython",
    "version": 3
   },
   "file_extension": ".py",
   "mimetype": "text/x-python",
   "name": "python",
   "nbconvert_exporter": "python",
   "pygments_lexer": "ipython3",
   "version": "3.9.12"
  }
 },
 "nbformat": 4,
 "nbformat_minor": 5
}
